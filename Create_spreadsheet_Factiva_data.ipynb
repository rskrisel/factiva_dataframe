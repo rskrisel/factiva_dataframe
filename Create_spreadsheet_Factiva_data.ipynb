{
  "cells": [
    {
      "cell_type": "markdown",
      "metadata": {
        "id": "view-in-github",
        "colab_type": "text"
      },
      "source": [
        "<a href=\"https://colab.research.google.com/github/rskrisel/factiva_dataframe/blob/main/Create_spreadsheet_Factiva_data.ipynb\" target=\"_parent\"><img src=\"https://colab.research.google.com/assets/colab-badge.svg\" alt=\"Open In Colab\"/></a>"
      ]
    },
    {
      "cell_type": "markdown",
      "source": [
        "# Collecting news data from Factiva and saving it in a Dataframe"
      ],
      "metadata": {
        "id": "twshZ2KyZoZS"
      }
    },
    {
      "cell_type": "markdown",
      "source": [
        "To get data from Factiva, you must have a subscription to the Factiva database. Most universities subscribe to the database, so you can use your library to connect to it.\n",
        "\n",
        "Please consult with your librarian for how to properly search for articles in Factiva.\n",
        "\n",
        "Once you have narrowed down your search and found the articles you wish to work with, follow these steps:\n",
        "\n",
        "\n",
        "1.   Click \"display\" and select: Full Article/Report plus Indexing\n",
        "2.   Set the duplicates to identical.\n",
        "3. Select the articles you wish to collect, then click print/article format\n",
        "4. From the print view window, click `command` + `u` to view the html code.\n",
        "5. Copy the html code and store it in the `html_code` variable below.\n",
        "\n",
        "\n",
        "\n"
      ],
      "metadata": {
        "id": "MPEZAoZqbnuE"
      }
    },
    {
      "cell_type": "code",
      "source": [
        "import glob # used to find all the file paths that match a specified pattern\n",
        "import pandas as pd"
      ],
      "metadata": {
        "id": "Hog4SdWceLFk"
      },
      "execution_count": 1,
      "outputs": []
    },
    {
      "cell_type": "code",
      "source": [
        "from google.colab import drive\n",
        "drive.mount('/content/drive')"
      ],
      "metadata": {
        "id": "r9ye5YkcFJsI",
        "colab": {
          "base_uri": "https://localhost:8080/"
        },
        "outputId": "ecbc8885-6f30-43ee-a8e3-3486be849c10"
      },
      "execution_count": 2,
      "outputs": [
        {
          "output_type": "stream",
          "name": "stdout",
          "text": [
            "Mounted at /content/drive\n"
          ]
        }
      ]
    },
    {
      "cell_type": "code",
      "source": [
        "path = 'path' # replace with your path"
      ],
      "metadata": {
        "id": "KgbVT_VFSrso"
      },
      "execution_count": 3,
      "outputs": []
    },
    {
      "cell_type": "markdown",
      "source": [
        "create new factiva folder"
      ],
      "metadata": {
        "id": "M5_mCnzbTBTz"
      }
    },
    {
      "cell_type": "code",
      "source": [
        "mkdir $path/factiva"
      ],
      "metadata": {
        "id": "g2JePSYgS_73"
      },
      "execution_count": 4,
      "outputs": []
    },
    {
      "cell_type": "code",
      "source": [
        "html_code= \"\"\"\n",
        "Paste your\n",
        "HTML code\n",
        "here\n",
        "\"\"\"\n",
        "\n"
      ],
      "metadata": {
        "id": "56l2ZC4Xb0bD"
      },
      "execution_count": 5,
      "outputs": []
    },
    {
      "cell_type": "markdown",
      "source": [
        "Next, you want to save the contents of the `html_code` variable into a `.htm` file:"
      ],
      "metadata": {
        "id": "gwezETiQOE1N"
      }
    },
    {
      "cell_type": "code",
      "source": [
        "\n",
        "# Write the HTML code to the file\n",
        "with open(f\"{path}/factiva/factiva.htm\", 'w') as file: #replace with your path\n",
        "    file.write(html_code)\n",
        "\n",
        "\n",
        "# # For a list of variables with HTML content\n",
        "# html_list = [html_code1, html_code2, html_code3]  # Replace with your actual variables\n",
        "\n",
        "# # Iterate over the list and write each HTML content to a separate file\n",
        "# for i, html_code in enumerate(html_list):\n",
        "#     file_path = f\"/content/drive/MyDrive/Factiva/factiva_{i}.htm\"  # Replace with your path\n",
        "#     with open(file_path, 'w') as file:\n",
        "#         file.write(html_code)\n",
        "\n"
      ],
      "metadata": {
        "id": "M04OTM-rb555"
      },
      "execution_count": 7,
      "outputs": []
    },
    {
      "cell_type": "markdown",
      "source": [
        "In the following line, you will look for all `.htm` files in your Factiva folder (and its subfolders, if any) located at the specified path on your Google Drive and return them as a list.\n",
        "\n",
        "- glob.glob is a function that finds all the files that match a specific pattern. In this case, it looks for files inside a folder called Factiva that have the .htm extension.\n",
        "- The part `/content/drive/MyDrive/Factiva/*.htm` is the path where it will look for the files. You would replace this with the path where your own files are located. The *.htm means it will find all files ending with .htm (which are likely HTML files).\n",
        "- recursive = True allows the function to search within subdirectories inside the Factiva folder as well.\n",
        "\n",
        "\n"
      ],
      "metadata": {
        "id": "EF3WgG0NOUFs"
      }
    },
    {
      "cell_type": "code",
      "source": [
        "files = glob.glob(f\"{path}/factiva/*.htm\", recursive = True) #replace with your path"
      ],
      "metadata": {
        "id": "1ieT2hcrFn3D"
      },
      "execution_count": 8,
      "outputs": []
    },
    {
      "cell_type": "code",
      "execution_count": 9,
      "metadata": {
        "id": "RoDNGSP7A8eL",
        "colab": {
          "base_uri": "https://localhost:8080/"
        },
        "outputId": "f68f411d-4cab-4e13-c2a8-ebf0b919adcd"
      },
      "outputs": [
        {
          "output_type": "execute_result",
          "data": {
            "text/plain": [
              "['/content/drive/MyDrive/Factiva/factiva/factiva.htm']"
            ]
          },
          "metadata": {},
          "execution_count": 9
        }
      ],
      "source": [
        "files"
      ]
    },
    {
      "cell_type": "markdown",
      "source": [
        "The following `for loop` starts with an empty list. It then goes through each HTML file in the files list, reads any tables found in those files, and adds them to the empty_list.\n",
        "\n",
        "In this case, the goal is to have a list where each element is a dataframe, not a list of lists. Since `pd.read_html()` returns a list of dataframes for each file, `extend` is used to merge those dataframes directly into `empty_list` so that it contains all the dataframes in one flat structure.\n",
        "\n",
        "If you used `append`, you would end up with a nested structure where each element is a list of dataframes, which is likely not what you want."
      ],
      "metadata": {
        "id": "CfP8xPODQflX"
      }
    },
    {
      "cell_type": "code",
      "execution_count": 10,
      "metadata": {
        "id": "-tjD6vN0A8eL"
      },
      "outputs": [],
      "source": [
        "empty_list = []\n",
        "for file in files:\n",
        "    data = pd.read_html(file, index_col = 0) #reads the HTML content of the file and tries to find any tables inside it.\n",
        "    empty_list.extend(data) # The extend() method is used to add the data (which is a list of dataframes) from the current file to empty_list."
      ]
    },
    {
      "cell_type": "code",
      "execution_count": 11,
      "metadata": {
        "id": "VBqYJq0QA8eM",
        "colab": {
          "base_uri": "https://localhost:8080/"
        },
        "collapsed": true,
        "outputId": "d6bab75f-a2db-4d73-bc64-985fcaa8af80"
      },
      "outputs": [
        {
          "output_type": "execute_result",
          "data": {
            "text/plain": [
              "[                           1\n",
              " 0                           \n",
              " Dow Jones Factiva  Dow Jones,\n",
              "                                                      1\n",
              " 0                                                     \n",
              " SE                                            HEADS UP\n",
              " HD                                    ASK THE GEAR GUY\n",
              " BY                                           Anonymous\n",
              " WC                                           552 words\n",
              " PD                                     1 November 2024\n",
              " SN                                          Scout Life\n",
              " SC                                                IBOY\n",
              " PG                                                   7\n",
              " VOL                 Volume 114; Issue 9; ISSN:26393727\n",
              " LA                                             English\n",
              " CY   © 2024 Scout Life. Provided by ProQuest Inform...\n",
              " LP   Q: What should I bring on a cold campout? - Ma...\n",
              " TD   A: THINK LAYERS. IN ADDITION TO YOUR OUTDOOR E...\n",
              " IN   i43 : Textiles | i431 : Fiber/Yarn/Thread | ic...\n",
              " NS   ccat : Corporate/Industrial News | gcat : Poli...\n",
              " IPD  Boy Scouts of America | General Information | ...\n",
              " PUB                              Boy Scouts of America\n",
              " AN                  Document IBOY000020241012ekb10000q,\n",
              "                                             1\n",
              " 0                                            \n",
              " © 2024 Factiva, Inc. All rights reserved. NaN]"
            ]
          },
          "metadata": {},
          "execution_count": 11
        }
      ],
      "source": [
        "empty_list"
      ]
    },
    {
      "cell_type": "markdown",
      "source": [
        "Let's create a variable, `frames`, which contains a dataframe where all relevant dataframes (those containing 'HD' in their index) are combined and flipped.\n",
        "\n",
        "In the next line of code, we will accomplish the following:\n",
        "- Look through all the dataframes in `empty_list` and selects only the ones where `HD` is found in the index.\n",
        "- Concatenate those dataframes side by side (combining their columns).\n",
        "- Finally, transpose the resulting dataframe, flipping the rows and columns, and assigning it to the variable `frames`.\n",
        "\n",
        "\n",
        "Breaking it down:\n",
        "- `[l for l in empty_list if 'HD' in l.index.values]:`\n",
        "1. This is a list comprehension. It goes through each item `l` in `empty_list` (which contains dataframes).\n",
        "2. For each dataframe `l`, it checks if `'HD'` is present in the index values of that dataframe `(l.index.values)`.\n",
        "3. If `'HD'` is found in the index of a dataframe, that dataframe is included in the resulting list. If `'HD'` is not found, that dataframe is ignored.\n",
        "\n",
        "- `pd.concat([...], axis=1)`:\n",
        "\n",
        "1. this concatenates (joins) all the dataframes that contain `'HD'` in their index. The `axis=1` argument means the dataframes will be concatenated side by side, meaning their columns will be combined.The result is a new dataframe where the data from each matching dataframe is merged by columns.\n",
        "\n",
        "- `.T`:\n",
        "1. This is a shorthand for \"transpose,\" which flips the rows and columns of the resulting dataframe.\n",
        "2. After concatenating the dataframes side by side, `.T` switches the rows and columns, so what were previously columns are now rows, and vice versa."
      ],
      "metadata": {
        "id": "rzjywplSRxIO"
      }
    },
    {
      "cell_type": "code",
      "execution_count": 12,
      "metadata": {
        "id": "JMiFyGxFA8eM"
      },
      "outputs": [],
      "source": [
        "frames = pd.concat([l for l in empty_list if 'HD' in l.index.values], axis=1).T"
      ]
    },
    {
      "cell_type": "code",
      "execution_count": 13,
      "metadata": {
        "id": "L7dWVPRlA8eM",
        "colab": {
          "base_uri": "https://localhost:8080/",
          "height": 205
        },
        "outputId": "4f1422ed-d1ed-4f7d-f14a-fa9315ad5a5e"
      },
      "outputs": [
        {
          "output_type": "execute_result",
          "data": {
            "text/plain": [
              "0        SE                HD         BY         WC               PD  \\\n",
              "1  HEADS UP  ASK THE GEAR GUY  Anonymous  552 words  1 November 2024   \n",
              "\n",
              "0          SN    SC PG                                 VOL       LA  \\\n",
              "1  Scout Life  IBOY  7  Volume 114; Issue 9; ISSN:26393727  English   \n",
              "\n",
              "0                                                 CY  \\\n",
              "1  © 2024 Scout Life. Provided by ProQuest Inform...   \n",
              "\n",
              "0                                                 LP  \\\n",
              "1  Q: What should I bring on a cold campout? - Ma...   \n",
              "\n",
              "0                                                 TD  \\\n",
              "1  A: THINK LAYERS. IN ADDITION TO YOUR OUTDOOR E...   \n",
              "\n",
              "0                                                 IN  \\\n",
              "1  i43 : Textiles | i431 : Fiber/Yarn/Thread | ic...   \n",
              "\n",
              "0                                                 NS  \\\n",
              "1  ccat : Corporate/Industrial News | gcat : Poli...   \n",
              "\n",
              "0                                                IPD                    PUB  \\\n",
              "1  Boy Scouts of America | General Information | ...  Boy Scouts of America   \n",
              "\n",
              "0                                  AN  \n",
              "1  Document IBOY000020241012ekb10000q  "
            ],
            "text/html": [
              "\n",
              "  <div id=\"df-b5df345a-bf72-41d0-879a-952aad6a1d9a\" class=\"colab-df-container\">\n",
              "    <div>\n",
              "<style scoped>\n",
              "    .dataframe tbody tr th:only-of-type {\n",
              "        vertical-align: middle;\n",
              "    }\n",
              "\n",
              "    .dataframe tbody tr th {\n",
              "        vertical-align: top;\n",
              "    }\n",
              "\n",
              "    .dataframe thead th {\n",
              "        text-align: right;\n",
              "    }\n",
              "</style>\n",
              "<table border=\"1\" class=\"dataframe\">\n",
              "  <thead>\n",
              "    <tr style=\"text-align: right;\">\n",
              "      <th></th>\n",
              "      <th>SE</th>\n",
              "      <th>HD</th>\n",
              "      <th>BY</th>\n",
              "      <th>WC</th>\n",
              "      <th>PD</th>\n",
              "      <th>SN</th>\n",
              "      <th>SC</th>\n",
              "      <th>PG</th>\n",
              "      <th>VOL</th>\n",
              "      <th>LA</th>\n",
              "      <th>CY</th>\n",
              "      <th>LP</th>\n",
              "      <th>TD</th>\n",
              "      <th>IN</th>\n",
              "      <th>NS</th>\n",
              "      <th>IPD</th>\n",
              "      <th>PUB</th>\n",
              "      <th>AN</th>\n",
              "    </tr>\n",
              "  </thead>\n",
              "  <tbody>\n",
              "    <tr>\n",
              "      <th>1</th>\n",
              "      <td>HEADS UP</td>\n",
              "      <td>ASK THE GEAR GUY</td>\n",
              "      <td>Anonymous</td>\n",
              "      <td>552 words</td>\n",
              "      <td>1 November 2024</td>\n",
              "      <td>Scout Life</td>\n",
              "      <td>IBOY</td>\n",
              "      <td>7</td>\n",
              "      <td>Volume 114; Issue 9; ISSN:26393727</td>\n",
              "      <td>English</td>\n",
              "      <td>© 2024 Scout Life. Provided by ProQuest Inform...</td>\n",
              "      <td>Q: What should I bring on a cold campout? - Ma...</td>\n",
              "      <td>A: THINK LAYERS. IN ADDITION TO YOUR OUTDOOR E...</td>\n",
              "      <td>i43 : Textiles | i431 : Fiber/Yarn/Thread | ic...</td>\n",
              "      <td>ccat : Corporate/Industrial News | gcat : Poli...</td>\n",
              "      <td>Boy Scouts of America | General Information | ...</td>\n",
              "      <td>Boy Scouts of America</td>\n",
              "      <td>Document IBOY000020241012ekb10000q</td>\n",
              "    </tr>\n",
              "  </tbody>\n",
              "</table>\n",
              "</div>\n",
              "    <div class=\"colab-df-buttons\">\n",
              "\n",
              "  <div class=\"colab-df-container\">\n",
              "    <button class=\"colab-df-convert\" onclick=\"convertToInteractive('df-b5df345a-bf72-41d0-879a-952aad6a1d9a')\"\n",
              "            title=\"Convert this dataframe to an interactive table.\"\n",
              "            style=\"display:none;\">\n",
              "\n",
              "  <svg xmlns=\"http://www.w3.org/2000/svg\" height=\"24px\" viewBox=\"0 -960 960 960\">\n",
              "    <path d=\"M120-120v-720h720v720H120Zm60-500h600v-160H180v160Zm220 220h160v-160H400v160Zm0 220h160v-160H400v160ZM180-400h160v-160H180v160Zm440 0h160v-160H620v160ZM180-180h160v-160H180v160Zm440 0h160v-160H620v160Z\"/>\n",
              "  </svg>\n",
              "    </button>\n",
              "\n",
              "  <style>\n",
              "    .colab-df-container {\n",
              "      display:flex;\n",
              "      gap: 12px;\n",
              "    }\n",
              "\n",
              "    .colab-df-convert {\n",
              "      background-color: #E8F0FE;\n",
              "      border: none;\n",
              "      border-radius: 50%;\n",
              "      cursor: pointer;\n",
              "      display: none;\n",
              "      fill: #1967D2;\n",
              "      height: 32px;\n",
              "      padding: 0 0 0 0;\n",
              "      width: 32px;\n",
              "    }\n",
              "\n",
              "    .colab-df-convert:hover {\n",
              "      background-color: #E2EBFA;\n",
              "      box-shadow: 0px 1px 2px rgba(60, 64, 67, 0.3), 0px 1px 3px 1px rgba(60, 64, 67, 0.15);\n",
              "      fill: #174EA6;\n",
              "    }\n",
              "\n",
              "    .colab-df-buttons div {\n",
              "      margin-bottom: 4px;\n",
              "    }\n",
              "\n",
              "    [theme=dark] .colab-df-convert {\n",
              "      background-color: #3B4455;\n",
              "      fill: #D2E3FC;\n",
              "    }\n",
              "\n",
              "    [theme=dark] .colab-df-convert:hover {\n",
              "      background-color: #434B5C;\n",
              "      box-shadow: 0px 1px 3px 1px rgba(0, 0, 0, 0.15);\n",
              "      filter: drop-shadow(0px 1px 2px rgba(0, 0, 0, 0.3));\n",
              "      fill: #FFFFFF;\n",
              "    }\n",
              "  </style>\n",
              "\n",
              "    <script>\n",
              "      const buttonEl =\n",
              "        document.querySelector('#df-b5df345a-bf72-41d0-879a-952aad6a1d9a button.colab-df-convert');\n",
              "      buttonEl.style.display =\n",
              "        google.colab.kernel.accessAllowed ? 'block' : 'none';\n",
              "\n",
              "      async function convertToInteractive(key) {\n",
              "        const element = document.querySelector('#df-b5df345a-bf72-41d0-879a-952aad6a1d9a');\n",
              "        const dataTable =\n",
              "          await google.colab.kernel.invokeFunction('convertToInteractive',\n",
              "                                                    [key], {});\n",
              "        if (!dataTable) return;\n",
              "\n",
              "        const docLinkHtml = 'Like what you see? Visit the ' +\n",
              "          '<a target=\"_blank\" href=https://colab.research.google.com/notebooks/data_table.ipynb>data table notebook</a>'\n",
              "          + ' to learn more about interactive tables.';\n",
              "        element.innerHTML = '';\n",
              "        dataTable['output_type'] = 'display_data';\n",
              "        await google.colab.output.renderOutput(dataTable, element);\n",
              "        const docLink = document.createElement('div');\n",
              "        docLink.innerHTML = docLinkHtml;\n",
              "        element.appendChild(docLink);\n",
              "      }\n",
              "    </script>\n",
              "  </div>\n",
              "\n",
              "\n",
              "  <div id=\"id_0052d4c2-2b77-4607-9a2d-9868109cd05d\">\n",
              "    <style>\n",
              "      .colab-df-generate {\n",
              "        background-color: #E8F0FE;\n",
              "        border: none;\n",
              "        border-radius: 50%;\n",
              "        cursor: pointer;\n",
              "        display: none;\n",
              "        fill: #1967D2;\n",
              "        height: 32px;\n",
              "        padding: 0 0 0 0;\n",
              "        width: 32px;\n",
              "      }\n",
              "\n",
              "      .colab-df-generate:hover {\n",
              "        background-color: #E2EBFA;\n",
              "        box-shadow: 0px 1px 2px rgba(60, 64, 67, 0.3), 0px 1px 3px 1px rgba(60, 64, 67, 0.15);\n",
              "        fill: #174EA6;\n",
              "      }\n",
              "\n",
              "      [theme=dark] .colab-df-generate {\n",
              "        background-color: #3B4455;\n",
              "        fill: #D2E3FC;\n",
              "      }\n",
              "\n",
              "      [theme=dark] .colab-df-generate:hover {\n",
              "        background-color: #434B5C;\n",
              "        box-shadow: 0px 1px 3px 1px rgba(0, 0, 0, 0.15);\n",
              "        filter: drop-shadow(0px 1px 2px rgba(0, 0, 0, 0.3));\n",
              "        fill: #FFFFFF;\n",
              "      }\n",
              "    </style>\n",
              "    <button class=\"colab-df-generate\" onclick=\"generateWithVariable('frames')\"\n",
              "            title=\"Generate code using this dataframe.\"\n",
              "            style=\"display:none;\">\n",
              "\n",
              "  <svg xmlns=\"http://www.w3.org/2000/svg\" height=\"24px\"viewBox=\"0 0 24 24\"\n",
              "       width=\"24px\">\n",
              "    <path d=\"M7,19H8.4L18.45,9,17,7.55,7,17.6ZM5,21V16.75L18.45,3.32a2,2,0,0,1,2.83,0l1.4,1.43a1.91,1.91,0,0,1,.58,1.4,1.91,1.91,0,0,1-.58,1.4L9.25,21ZM18.45,9,17,7.55Zm-12,3A5.31,5.31,0,0,0,4.9,8.1,5.31,5.31,0,0,0,1,6.5,5.31,5.31,0,0,0,4.9,4.9,5.31,5.31,0,0,0,6.5,1,5.31,5.31,0,0,0,8.1,4.9,5.31,5.31,0,0,0,12,6.5,5.46,5.46,0,0,0,6.5,12Z\"/>\n",
              "  </svg>\n",
              "    </button>\n",
              "    <script>\n",
              "      (() => {\n",
              "      const buttonEl =\n",
              "        document.querySelector('#id_0052d4c2-2b77-4607-9a2d-9868109cd05d button.colab-df-generate');\n",
              "      buttonEl.style.display =\n",
              "        google.colab.kernel.accessAllowed ? 'block' : 'none';\n",
              "\n",
              "      buttonEl.onclick = () => {\n",
              "        google.colab.notebook.generateWithVariable('frames');\n",
              "      }\n",
              "      })();\n",
              "    </script>\n",
              "  </div>\n",
              "\n",
              "    </div>\n",
              "  </div>\n"
            ],
            "application/vnd.google.colaboratory.intrinsic+json": {
              "type": "dataframe",
              "variable_name": "frames",
              "repr_error": "0"
            }
          },
          "metadata": {},
          "execution_count": 13
        }
      ],
      "source": [
        "frames"
      ]
    },
    {
      "cell_type": "markdown",
      "source": [
        "Take a look at the columns in our `frames` dataframe. The columns correspond to the index on the left column of the print view of articles in Factiva."
      ],
      "metadata": {
        "id": "qYa1V9u3UI__"
      }
    },
    {
      "cell_type": "code",
      "source": [
        "frames.columns"
      ],
      "metadata": {
        "colab": {
          "base_uri": "https://localhost:8080/"
        },
        "id": "9I2UP5iIUISD",
        "outputId": "2748976a-a643-4494-cba2-3ffc8a406d9c"
      },
      "execution_count": 14,
      "outputs": [
        {
          "output_type": "execute_result",
          "data": {
            "text/plain": [
              "Index(['SE', 'HD', 'BY', 'WC', 'PD', 'SN', 'SC', 'PG', 'VOL', 'LA', 'CY', 'LP',\n",
              "       'TD', 'IN', 'NS', 'IPD', 'PUB', 'AN'],\n",
              "      dtype='object', name=0)"
            ]
          },
          "metadata": {},
          "execution_count": 14
        }
      ]
    },
    {
      "cell_type": "markdown",
      "source": [
        "Next, let's rename certain columns to more meaningful or readable names (e.g., 'HD' becomes 'Headline', 'PD' becomes 'Publication_Date', etc.) and select only the relevant columns we want to keep."
      ],
      "metadata": {
        "id": "Bph-LCAFTw-h"
      }
    },
    {
      "cell_type": "code",
      "execution_count": 15,
      "metadata": {
        "id": "5nWDYnhuA8eN"
      },
      "outputs": [],
      "source": [
        "frames.rename(columns = {'HD': 'Headline',\n",
        "                         'PD': 'Publication_Date','SN': 'Source_Name', 'LP': 'Lead Paragraph',\n",
        "                          'TD': 'Body',\n",
        "                         'BY':'Author_Name'}, inplace=True)\n",
        "\n",
        "frames = frames[['Headline', 'Publication_Date', 'Source_Name', 'Lead Paragraph', 'Body', 'Author_Name']]\n"
      ]
    },
    {
      "cell_type": "markdown",
      "source": [
        "Let's make sure our `Publication_Date` column is in datetime format."
      ],
      "metadata": {
        "id": "rewhDm1nT9as"
      }
    },
    {
      "cell_type": "code",
      "execution_count": 16,
      "metadata": {
        "id": "jyleltLKA8eN",
        "colab": {
          "base_uri": "https://localhost:8080/"
        },
        "outputId": "1c6224a0-b02b-4725-9587-0dfc60363f19"
      },
      "outputs": [
        {
          "output_type": "stream",
          "name": "stderr",
          "text": [
            "<ipython-input-16-a5b0a82b7db1>:1: SettingWithCopyWarning: \n",
            "A value is trying to be set on a copy of a slice from a DataFrame.\n",
            "Try using .loc[row_indexer,col_indexer] = value instead\n",
            "\n",
            "See the caveats in the documentation: https://pandas.pydata.org/pandas-docs/stable/user_guide/indexing.html#returning-a-view-versus-a-copy\n",
            "  frames['Publication_Date'] = pd.to_datetime(frames['Publication_Date'])\n",
            "<ipython-input-16-a5b0a82b7db1>:2: SettingWithCopyWarning: \n",
            "A value is trying to be set on a copy of a slice from a DataFrame\n",
            "\n",
            "See the caveats in the documentation: https://pandas.pydata.org/pandas-docs/stable/user_guide/indexing.html#returning-a-view-versus-a-copy\n",
            "  frames.sort_values(by='Publication_Date', inplace=True)\n"
          ]
        }
      ],
      "source": [
        "frames['Publication_Date'] = pd.to_datetime(frames['Publication_Date'])\n",
        "frames.sort_values(by='Publication_Date', inplace=True)"
      ]
    },
    {
      "cell_type": "markdown",
      "source": [
        "Next, we want to combine the text from the `Lead Paragraph` and the `Body` columns so we have the full article in a single cell."
      ],
      "metadata": {
        "id": "4lDj0U8MVOJ4"
      }
    },
    {
      "cell_type": "code",
      "source": [
        "frames['CombinedText'] = frames['Lead Paragraph'] + \" \" + frames['Body']"
      ],
      "metadata": {
        "id": "6-VXXSniMSBO",
        "colab": {
          "base_uri": "https://localhost:8080/"
        },
        "outputId": "b7a19d8e-c857-492d-d446-79639e6aea1f"
      },
      "execution_count": 17,
      "outputs": [
        {
          "output_type": "stream",
          "name": "stderr",
          "text": [
            "<ipython-input-17-eb4877132039>:1: SettingWithCopyWarning: \n",
            "A value is trying to be set on a copy of a slice from a DataFrame.\n",
            "Try using .loc[row_indexer,col_indexer] = value instead\n",
            "\n",
            "See the caveats in the documentation: https://pandas.pydata.org/pandas-docs/stable/user_guide/indexing.html#returning-a-view-versus-a-copy\n",
            "  frames['CombinedText'] = frames['Lead Paragraph'] + \" \" + frames['Body']\n"
          ]
        }
      ]
    },
    {
      "cell_type": "code",
      "source": [
        "frames"
      ],
      "metadata": {
        "collapsed": true,
        "id": "XHPcepOAWQSI",
        "colab": {
          "base_uri": "https://localhost:8080/",
          "height": 98
        },
        "outputId": "bb62ea45-78f4-4bc2-c1da-fd27782d3cd2"
      },
      "execution_count": 18,
      "outputs": [
        {
          "output_type": "execute_result",
          "data": {
            "text/plain": [
              "0          Headline Publication_Date Source_Name  \\\n",
              "1  ASK THE GEAR GUY       2024-11-01  Scout Life   \n",
              "\n",
              "0                                     Lead Paragraph  \\\n",
              "1  Q: What should I bring on a cold campout? - Ma...   \n",
              "\n",
              "0                                               Body Author_Name  \\\n",
              "1  A: THINK LAYERS. IN ADDITION TO YOUR OUTDOOR E...   Anonymous   \n",
              "\n",
              "0                                       CombinedText  \n",
              "1  Q: What should I bring on a cold campout? - Ma...  "
            ],
            "text/html": [
              "\n",
              "  <div id=\"df-de18b2eb-3ee9-4270-ac93-a2846d2ef09a\" class=\"colab-df-container\">\n",
              "    <div>\n",
              "<style scoped>\n",
              "    .dataframe tbody tr th:only-of-type {\n",
              "        vertical-align: middle;\n",
              "    }\n",
              "\n",
              "    .dataframe tbody tr th {\n",
              "        vertical-align: top;\n",
              "    }\n",
              "\n",
              "    .dataframe thead th {\n",
              "        text-align: right;\n",
              "    }\n",
              "</style>\n",
              "<table border=\"1\" class=\"dataframe\">\n",
              "  <thead>\n",
              "    <tr style=\"text-align: right;\">\n",
              "      <th></th>\n",
              "      <th>Headline</th>\n",
              "      <th>Publication_Date</th>\n",
              "      <th>Source_Name</th>\n",
              "      <th>Lead Paragraph</th>\n",
              "      <th>Body</th>\n",
              "      <th>Author_Name</th>\n",
              "      <th>CombinedText</th>\n",
              "    </tr>\n",
              "  </thead>\n",
              "  <tbody>\n",
              "    <tr>\n",
              "      <th>1</th>\n",
              "      <td>ASK THE GEAR GUY</td>\n",
              "      <td>2024-11-01</td>\n",
              "      <td>Scout Life</td>\n",
              "      <td>Q: What should I bring on a cold campout? - Ma...</td>\n",
              "      <td>A: THINK LAYERS. IN ADDITION TO YOUR OUTDOOR E...</td>\n",
              "      <td>Anonymous</td>\n",
              "      <td>Q: What should I bring on a cold campout? - Ma...</td>\n",
              "    </tr>\n",
              "  </tbody>\n",
              "</table>\n",
              "</div>\n",
              "    <div class=\"colab-df-buttons\">\n",
              "\n",
              "  <div class=\"colab-df-container\">\n",
              "    <button class=\"colab-df-convert\" onclick=\"convertToInteractive('df-de18b2eb-3ee9-4270-ac93-a2846d2ef09a')\"\n",
              "            title=\"Convert this dataframe to an interactive table.\"\n",
              "            style=\"display:none;\">\n",
              "\n",
              "  <svg xmlns=\"http://www.w3.org/2000/svg\" height=\"24px\" viewBox=\"0 -960 960 960\">\n",
              "    <path d=\"M120-120v-720h720v720H120Zm60-500h600v-160H180v160Zm220 220h160v-160H400v160Zm0 220h160v-160H400v160ZM180-400h160v-160H180v160Zm440 0h160v-160H620v160ZM180-180h160v-160H180v160Zm440 0h160v-160H620v160Z\"/>\n",
              "  </svg>\n",
              "    </button>\n",
              "\n",
              "  <style>\n",
              "    .colab-df-container {\n",
              "      display:flex;\n",
              "      gap: 12px;\n",
              "    }\n",
              "\n",
              "    .colab-df-convert {\n",
              "      background-color: #E8F0FE;\n",
              "      border: none;\n",
              "      border-radius: 50%;\n",
              "      cursor: pointer;\n",
              "      display: none;\n",
              "      fill: #1967D2;\n",
              "      height: 32px;\n",
              "      padding: 0 0 0 0;\n",
              "      width: 32px;\n",
              "    }\n",
              "\n",
              "    .colab-df-convert:hover {\n",
              "      background-color: #E2EBFA;\n",
              "      box-shadow: 0px 1px 2px rgba(60, 64, 67, 0.3), 0px 1px 3px 1px rgba(60, 64, 67, 0.15);\n",
              "      fill: #174EA6;\n",
              "    }\n",
              "\n",
              "    .colab-df-buttons div {\n",
              "      margin-bottom: 4px;\n",
              "    }\n",
              "\n",
              "    [theme=dark] .colab-df-convert {\n",
              "      background-color: #3B4455;\n",
              "      fill: #D2E3FC;\n",
              "    }\n",
              "\n",
              "    [theme=dark] .colab-df-convert:hover {\n",
              "      background-color: #434B5C;\n",
              "      box-shadow: 0px 1px 3px 1px rgba(0, 0, 0, 0.15);\n",
              "      filter: drop-shadow(0px 1px 2px rgba(0, 0, 0, 0.3));\n",
              "      fill: #FFFFFF;\n",
              "    }\n",
              "  </style>\n",
              "\n",
              "    <script>\n",
              "      const buttonEl =\n",
              "        document.querySelector('#df-de18b2eb-3ee9-4270-ac93-a2846d2ef09a button.colab-df-convert');\n",
              "      buttonEl.style.display =\n",
              "        google.colab.kernel.accessAllowed ? 'block' : 'none';\n",
              "\n",
              "      async function convertToInteractive(key) {\n",
              "        const element = document.querySelector('#df-de18b2eb-3ee9-4270-ac93-a2846d2ef09a');\n",
              "        const dataTable =\n",
              "          await google.colab.kernel.invokeFunction('convertToInteractive',\n",
              "                                                    [key], {});\n",
              "        if (!dataTable) return;\n",
              "\n",
              "        const docLinkHtml = 'Like what you see? Visit the ' +\n",
              "          '<a target=\"_blank\" href=https://colab.research.google.com/notebooks/data_table.ipynb>data table notebook</a>'\n",
              "          + ' to learn more about interactive tables.';\n",
              "        element.innerHTML = '';\n",
              "        dataTable['output_type'] = 'display_data';\n",
              "        await google.colab.output.renderOutput(dataTable, element);\n",
              "        const docLink = document.createElement('div');\n",
              "        docLink.innerHTML = docLinkHtml;\n",
              "        element.appendChild(docLink);\n",
              "      }\n",
              "    </script>\n",
              "  </div>\n",
              "\n",
              "\n",
              "  <div id=\"id_dc5cffed-09ec-4aa2-9f72-2cd2a9f595c3\">\n",
              "    <style>\n",
              "      .colab-df-generate {\n",
              "        background-color: #E8F0FE;\n",
              "        border: none;\n",
              "        border-radius: 50%;\n",
              "        cursor: pointer;\n",
              "        display: none;\n",
              "        fill: #1967D2;\n",
              "        height: 32px;\n",
              "        padding: 0 0 0 0;\n",
              "        width: 32px;\n",
              "      }\n",
              "\n",
              "      .colab-df-generate:hover {\n",
              "        background-color: #E2EBFA;\n",
              "        box-shadow: 0px 1px 2px rgba(60, 64, 67, 0.3), 0px 1px 3px 1px rgba(60, 64, 67, 0.15);\n",
              "        fill: #174EA6;\n",
              "      }\n",
              "\n",
              "      [theme=dark] .colab-df-generate {\n",
              "        background-color: #3B4455;\n",
              "        fill: #D2E3FC;\n",
              "      }\n",
              "\n",
              "      [theme=dark] .colab-df-generate:hover {\n",
              "        background-color: #434B5C;\n",
              "        box-shadow: 0px 1px 3px 1px rgba(0, 0, 0, 0.15);\n",
              "        filter: drop-shadow(0px 1px 2px rgba(0, 0, 0, 0.3));\n",
              "        fill: #FFFFFF;\n",
              "      }\n",
              "    </style>\n",
              "    <button class=\"colab-df-generate\" onclick=\"generateWithVariable('frames')\"\n",
              "            title=\"Generate code using this dataframe.\"\n",
              "            style=\"display:none;\">\n",
              "\n",
              "  <svg xmlns=\"http://www.w3.org/2000/svg\" height=\"24px\"viewBox=\"0 0 24 24\"\n",
              "       width=\"24px\">\n",
              "    <path d=\"M7,19H8.4L18.45,9,17,7.55,7,17.6ZM5,21V16.75L18.45,3.32a2,2,0,0,1,2.83,0l1.4,1.43a1.91,1.91,0,0,1,.58,1.4,1.91,1.91,0,0,1-.58,1.4L9.25,21ZM18.45,9,17,7.55Zm-12,3A5.31,5.31,0,0,0,4.9,8.1,5.31,5.31,0,0,0,1,6.5,5.31,5.31,0,0,0,4.9,4.9,5.31,5.31,0,0,0,6.5,1,5.31,5.31,0,0,0,8.1,4.9,5.31,5.31,0,0,0,12,6.5,5.46,5.46,0,0,0,6.5,12Z\"/>\n",
              "  </svg>\n",
              "    </button>\n",
              "    <script>\n",
              "      (() => {\n",
              "      const buttonEl =\n",
              "        document.querySelector('#id_dc5cffed-09ec-4aa2-9f72-2cd2a9f595c3 button.colab-df-generate');\n",
              "      buttonEl.style.display =\n",
              "        google.colab.kernel.accessAllowed ? 'block' : 'none';\n",
              "\n",
              "      buttonEl.onclick = () => {\n",
              "        google.colab.notebook.generateWithVariable('frames');\n",
              "      }\n",
              "      })();\n",
              "    </script>\n",
              "  </div>\n",
              "\n",
              "    </div>\n",
              "  </div>\n"
            ],
            "application/vnd.google.colaboratory.intrinsic+json": {
              "type": "dataframe",
              "variable_name": "frames",
              "summary": "{\n  \"name\": \"frames\",\n  \"rows\": 1,\n  \"fields\": [\n    {\n      \"column\": \"Headline\",\n      \"properties\": {\n        \"dtype\": \"string\",\n        \"num_unique_values\": 1,\n        \"samples\": [\n          \"ASK THE GEAR GUY\"\n        ],\n        \"semantic_type\": \"\",\n        \"description\": \"\"\n      }\n    },\n    {\n      \"column\": \"Publication_Date\",\n      \"properties\": {\n        \"dtype\": \"date\",\n        \"min\": \"2024-11-01 00:00:00\",\n        \"max\": \"2024-11-01 00:00:00\",\n        \"num_unique_values\": 1,\n        \"samples\": [\n          \"2024-11-01 00:00:00\"\n        ],\n        \"semantic_type\": \"\",\n        \"description\": \"\"\n      }\n    },\n    {\n      \"column\": \"Source_Name\",\n      \"properties\": {\n        \"dtype\": \"string\",\n        \"num_unique_values\": 1,\n        \"samples\": [\n          \"Scout Life\"\n        ],\n        \"semantic_type\": \"\",\n        \"description\": \"\"\n      }\n    },\n    {\n      \"column\": \"Lead Paragraph\",\n      \"properties\": {\n        \"dtype\": \"string\",\n        \"num_unique_values\": 1,\n        \"samples\": [\n          \"Q: What should I bring on a cold campout? - Mark, Knoxville, Tennessee\"\n        ],\n        \"semantic_type\": \"\",\n        \"description\": \"\"\n      }\n    },\n    {\n      \"column\": \"Body\",\n      \"properties\": {\n        \"dtype\": \"string\",\n        \"num_unique_values\": 1,\n        \"samples\": [\n          \"A: THINK LAYERS. IN ADDITION TO YOUR OUTDOOR ESSENTIALS, TOILETRIES AND SLEEPING GEAR, PACK CLOTHING THAT YOU CAN EASILY ADD OR REMOVE. This helps you maintain ideal comfort, especially if the temperature or conditions change. These layers should address the \\\"three W's\\\": warmth, wicking and weather. Your outermost layer protects you from the elements. Look for clothing labeled \\\"windproof\\\" and \\\"waterproof.\\\" Your warmth layer should be made of fleece, wool, down or synthetic insulation - these materials are designed to keep you warmer than others, like cotton. Your wicking layer is worn closest to your skin, and it's supposed to wick away moisture, keeping you dry. Don't forget a hat - you can lose 10% or more of your body heat through your head. I'd suggest wool or synthetics, like Coal's Uniform knit cuff beanie ($27), which is made with Polylana fiber, a very soft synthetic material that is recyclable. Wear insulated gloves and footwear, too. Some options I've tried are the Gordini Foundation gloves ($95), which use a combination of polyester and goose down, and the Exped Camp Booty ($65), a pair of warm shoes made with recycled polyester. STUFF WE LIKE Nemo Endless Promise sleeping bag SUSTAINABILITY MEANS NOT WASTING OUR RESOURCES. Nemo Equipment is trying to further that mission with its Endless Promise products, including the Forte synthetic sleeping bag ($190), which is 100% recyclable. Nemo took its top-selling three-season sleeping bag and redesigned it so every part could be recycled. It still keeps you warm with 35- and 20-degree-rated versions, each with adjustable zippered vents that can help you find the right temperature. The bag's shape also provides more room in the shoulder and knee areas, making it more comfortable to sleep on your side. Send your used sleeping bag back to Nemo to be resold or recycled and the company will offer you a gift card as thanks. Ask The Gear Guy SL's Gear Guy is here to answer your questions about gear and gadgets. Find more Gear Guy questions and answers in the Outdoors & Gear section of scoutlife.org Q: What are good options for waterproof hiking boots? - Saralynn, Sleepy Hollow, New York A: WATERPROOF BOOTS DO A GREAT JOB AT REPELLING OUTSIDE MOISTURE. An ideal time to pack them are on rainy or snowy adventures. However, if you sweat a lot, they can trap inside moisture, too, which can lead to damp, stinky socks. So pair your boots with wool or synthetic socks, which are designed to wick moisture away from your feet. Some good boot options I've tested out recently are the Teva Grandview Gore-Tex hiking boot ($175) and the Muck Outscape Max boot ($130). The Grandview combines waterproof leather, quick-dry mesh and Gore-Tex. Gore-Tex is a waterproof yet breathable material; it's often used in gloves, boots and rain jackets. The Grandview feels very comfortable, thanks to its adjustable heel lock system, which relieves pressure off your toes when hiking downhill. The Outscape uses rubber and flexible neoprene to repel the elements. It also has a large collar opening, making it easy to slip the boots on and off.\"\n        ],\n        \"semantic_type\": \"\",\n        \"description\": \"\"\n      }\n    },\n    {\n      \"column\": \"Author_Name\",\n      \"properties\": {\n        \"dtype\": \"string\",\n        \"num_unique_values\": 1,\n        \"samples\": [\n          \"Anonymous\"\n        ],\n        \"semantic_type\": \"\",\n        \"description\": \"\"\n      }\n    },\n    {\n      \"column\": \"CombinedText\",\n      \"properties\": {\n        \"dtype\": \"string\",\n        \"num_unique_values\": 1,\n        \"samples\": [\n          \"Q: What should I bring on a cold campout? - Mark, Knoxville, Tennessee A: THINK LAYERS. IN ADDITION TO YOUR OUTDOOR ESSENTIALS, TOILETRIES AND SLEEPING GEAR, PACK CLOTHING THAT YOU CAN EASILY ADD OR REMOVE. This helps you maintain ideal comfort, especially if the temperature or conditions change. These layers should address the \\\"three W's\\\": warmth, wicking and weather. Your outermost layer protects you from the elements. Look for clothing labeled \\\"windproof\\\" and \\\"waterproof.\\\" Your warmth layer should be made of fleece, wool, down or synthetic insulation - these materials are designed to keep you warmer than others, like cotton. Your wicking layer is worn closest to your skin, and it's supposed to wick away moisture, keeping you dry. Don't forget a hat - you can lose 10% or more of your body heat through your head. I'd suggest wool or synthetics, like Coal's Uniform knit cuff beanie ($27), which is made with Polylana fiber, a very soft synthetic material that is recyclable. Wear insulated gloves and footwear, too. Some options I've tried are the Gordini Foundation gloves ($95), which use a combination of polyester and goose down, and the Exped Camp Booty ($65), a pair of warm shoes made with recycled polyester. STUFF WE LIKE Nemo Endless Promise sleeping bag SUSTAINABILITY MEANS NOT WASTING OUR RESOURCES. Nemo Equipment is trying to further that mission with its Endless Promise products, including the Forte synthetic sleeping bag ($190), which is 100% recyclable. Nemo took its top-selling three-season sleeping bag and redesigned it so every part could be recycled. It still keeps you warm with 35- and 20-degree-rated versions, each with adjustable zippered vents that can help you find the right temperature. The bag's shape also provides more room in the shoulder and knee areas, making it more comfortable to sleep on your side. Send your used sleeping bag back to Nemo to be resold or recycled and the company will offer you a gift card as thanks. Ask The Gear Guy SL's Gear Guy is here to answer your questions about gear and gadgets. Find more Gear Guy questions and answers in the Outdoors & Gear section of scoutlife.org Q: What are good options for waterproof hiking boots? - Saralynn, Sleepy Hollow, New York A: WATERPROOF BOOTS DO A GREAT JOB AT REPELLING OUTSIDE MOISTURE. An ideal time to pack them are on rainy or snowy adventures. However, if you sweat a lot, they can trap inside moisture, too, which can lead to damp, stinky socks. So pair your boots with wool or synthetic socks, which are designed to wick moisture away from your feet. Some good boot options I've tested out recently are the Teva Grandview Gore-Tex hiking boot ($175) and the Muck Outscape Max boot ($130). The Grandview combines waterproof leather, quick-dry mesh and Gore-Tex. Gore-Tex is a waterproof yet breathable material; it's often used in gloves, boots and rain jackets. The Grandview feels very comfortable, thanks to its adjustable heel lock system, which relieves pressure off your toes when hiking downhill. The Outscape uses rubber and flexible neoprene to repel the elements. It also has a large collar opening, making it easy to slip the boots on and off.\"\n        ],\n        \"semantic_type\": \"\",\n        \"description\": \"\"\n      }\n    }\n  ]\n}"
            }
          },
          "metadata": {},
          "execution_count": 18
        }
      ]
    },
    {
      "cell_type": "markdown",
      "source": [
        "Let's reset the index so it's the standard [0:] index, in ascending order."
      ],
      "metadata": {
        "id": "JaXGedRLWXxP"
      }
    },
    {
      "cell_type": "code",
      "source": [
        "df = frames.reset_index()"
      ],
      "metadata": {
        "id": "ZHm89i49fO7h"
      },
      "execution_count": 19,
      "outputs": []
    },
    {
      "cell_type": "markdown",
      "source": [
        "Next, we will us a code that loops through each row in the DataFrame `df`, creates a unique text file for each row, and writes the content from the `CombinedText` column into that file. If the `CombinedText` value is missing (i.e., `NaN`), it writes an empty string instead. The filenames are generated dynamically based on the row index.\n",
        "\n",
        "In essence, it saves the text content from each row in the DataFrame as individual text files.\n",
        "\n",
        "1. **`for index, row in df.iterrows():`**\n",
        "   - This line starts a loop over each row in the DataFrame `df`.\n",
        "   - `df.iterrows()` is a pandas function that allows you to loop through the DataFrame row by row.\n",
        "   - `index` represents the row number (starting from 0), and `row` contains the data for that specific row in the form of a pandas Series.\n",
        "\n",
        "2. **`file_name = f\"{path}/text_file_{index + 1}.txt\"`**\n",
        "   - This line generates a unique filename for each row.\n",
        "   - The `f\"{path}/text_file_{index + 1}.txt\"` uses an f-string to create a file name based on the `index` (plus 1 to make it start at 1 instead of 0).\n",
        "   - `path` is a variable that contains the directory where the file will be saved (it should be defined earlier in the code).\n",
        "   - For example, for the first row (index 0), this would create a filename like `\"path/to/directory/text_file_1.txt\"`.\n",
        "\n",
        "3. **`with open(file_name, 'w') as file:`**\n",
        "   - This opens a file with the name `file_name` in write mode (`'w'`), allowing the program to write data into it.\n",
        "   - The `with` statement ensures the file is properly closed after writing, even if an error occurs.\n",
        "\n",
        "4. **`text_content = str(row['CombinedText']) if pd.notnull(row['CombinedText']) else ''`**\n",
        "   - This checks the value in the `'CombinedText'` column for the current row.\n",
        "   - **`pd.notnull(row['CombinedText'])`** checks if the value is **not** `NaN` (i.e., it’s not missing).\n",
        "   - If the value is **not** `NaN`, it converts the value to a string using `str(row['CombinedText'])`.\n",
        "   - If the value is `NaN`, it sets `text_content` to an empty string (`''`).\n",
        "   - This ensures that no matter what value is in the `CombinedText` column, you will have valid text to write to the file (either the text itself or an empty string).\n",
        "\n",
        "5. **`file.write(text_content)`**\n",
        "   - This writes the `text_content` (the string version of the `CombinedText` value) to the file.\n",
        "   - If the `CombinedText` was `NaN`, it writes an empty string; otherwise, it writes the actual content from that column.\n",
        "\n",
        "\n"
      ],
      "metadata": {
        "id": "VOmnMvjjYcZD"
      }
    },
    {
      "cell_type": "code",
      "source": [
        "for index, row in df.iterrows():\n",
        "    file_name = f\"{path}/factiva/text_file_{index + 1}.txt\"  # Create a unique filename for each row\n",
        "    with open(file_name, 'w') as file:\n",
        "        text_content = str(row['CombinedText']) if pd.notnull(row['CombinedText']) else ''  # Convert to string and handle NaN\n",
        "        file.write(text_content)  # Write the text content to the file"
      ],
      "metadata": {
        "id": "jv2Cw3f9XJtj"
      },
      "execution_count": 20,
      "outputs": []
    }
  ],
  "metadata": {
    "kernelspec": {
      "display_name": "Python 3 (ipykernel)",
      "language": "python",
      "name": "python3"
    },
    "language_info": {
      "codemirror_mode": {
        "name": "ipython",
        "version": 3
      },
      "file_extension": ".py",
      "mimetype": "text/x-python",
      "name": "python",
      "nbconvert_exporter": "python",
      "pygments_lexer": "ipython3",
      "version": "3.10.9"
    },
    "colab": {
      "provenance": [],
      "include_colab_link": true
    }
  },
  "nbformat": 4,
  "nbformat_minor": 0
}